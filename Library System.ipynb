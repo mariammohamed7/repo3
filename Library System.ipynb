{
 "cells": [
  {
   "cell_type": "code",
   "execution_count": 1,
   "metadata": {},
   "outputs": [],
   "source": [
    "class Library:\n",
    "    def __init__(self,book_list,name_of_library):\n",
    "        self.book_list=book_list\n",
    "        self.name_of_library=name_of_library\n",
    "        self.lended_books = []\n",
    "\n",
    "     \n",
    "    def display_available_books(self):\n",
    "        return f'The available books in {self.name_of_library} are \\n {self.book_list}'\n",
    "   \n",
    "\n",
    "    def lending_books(self,user_name,lended_book):\n",
    "        print(f'Welcom {user_name}')\n",
    "    \n",
    "        if lended_book in self.book_list:\n",
    "            print(f'{lended_book} is available')\n",
    "            self.book_list.remove(lended_book)\n",
    "            self.lended_books.append(lended_book)\n",
    "        \n",
    "        else:\n",
    "            print('sorry the book you asked for isnt available')\n",
    "\n",
    "    def add_book(self,new_book):\n",
    "        self.book_list.append(new_book)\n",
    "        print(f'book list is {self.book_list}')\n",
    "      \n",
    "    \n",
    "    def return_borrowed_books(self,returned_book):\n",
    "        if returned_book in self.lended_books:\n",
    "            self.lended_books.remove(returned_book)\n",
    "            self.book_list.append(returned_book)\n",
    "            print(f'The book \"{returned_book}\" has been returned successfully.')\n",
    "        else:\n",
    "            print(f'{returned_book} was not borrowed.')"
   ]
  },
  {
   "cell_type": "code",
   "execution_count": null,
   "metadata": {},
   "outputs": [],
   "source": []
  }
 ],
 "metadata": {
  "kernelspec": {
   "display_name": "Python 3",
   "language": "python",
   "name": "python3"
  },
  "language_info": {
   "codemirror_mode": {
    "name": "ipython",
    "version": 3
   },
   "file_extension": ".py",
   "mimetype": "text/x-python",
   "name": "python",
   "nbconvert_exporter": "python",
   "pygments_lexer": "ipython3",
   "version": "3.7.6"
  }
 },
 "nbformat": 4,
 "nbformat_minor": 4
}
